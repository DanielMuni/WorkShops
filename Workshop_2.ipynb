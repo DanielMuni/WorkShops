{
  "nbformat": 4,
  "nbformat_minor": 0,
  "metadata": {
    "colab": {
      "name": "Workshop-2.ipynb",
      "provenance": [],
      "collapsed_sections": []
    },
    "kernelspec": {
      "name": "python3",
      "display_name": "Python 3"
    },
    "language_info": {
      "name": "python"
    }
  },
  "cells": [
    {
      "cell_type": "code",
      "source": [
        "!pip install symbulate\n"
      ],
      "metadata": {
        "colab": {
          "base_uri": "https://localhost:8080/"
        },
        "id": "bJgARY26hJiD",
        "outputId": "3694d055-c046-4a6c-9b33-2b063233cf01"
      },
      "execution_count": 2,
      "outputs": [
        {
          "output_type": "stream",
          "name": "stdout",
          "text": [
            "Looking in indexes: https://pypi.org/simple, https://us-python.pkg.dev/colab-wheels/public/simple/\n",
            "Collecting symbulate\n",
            "  Downloading symbulate-0.5.7-py3-none-any.whl (44 kB)\n",
            "\u001b[K     |████████████████████████████████| 44 kB 1.7 MB/s \n",
            "\u001b[?25hRequirement already satisfied: numpy in /usr/local/lib/python3.7/dist-packages (from symbulate) (1.21.6)\n",
            "Requirement already satisfied: scipy in /usr/local/lib/python3.7/dist-packages (from symbulate) (1.7.3)\n",
            "Requirement already satisfied: matplotlib in /usr/local/lib/python3.7/dist-packages (from symbulate) (3.2.2)\n",
            "Requirement already satisfied: pyparsing!=2.0.4,!=2.1.2,!=2.1.6,>=2.0.1 in /usr/local/lib/python3.7/dist-packages (from matplotlib->symbulate) (3.0.9)\n",
            "Requirement already satisfied: python-dateutil>=2.1 in /usr/local/lib/python3.7/dist-packages (from matplotlib->symbulate) (2.8.2)\n",
            "Requirement already satisfied: kiwisolver>=1.0.1 in /usr/local/lib/python3.7/dist-packages (from matplotlib->symbulate) (1.4.4)\n",
            "Requirement already satisfied: cycler>=0.10 in /usr/local/lib/python3.7/dist-packages (from matplotlib->symbulate) (0.11.0)\n",
            "Requirement already satisfied: typing-extensions in /usr/local/lib/python3.7/dist-packages (from kiwisolver>=1.0.1->matplotlib->symbulate) (4.1.1)\n",
            "Requirement already satisfied: six>=1.5 in /usr/local/lib/python3.7/dist-packages (from python-dateutil>=2.1->matplotlib->symbulate) (1.15.0)\n",
            "Installing collected packages: symbulate\n",
            "Successfully installed symbulate-0.5.7\n"
          ]
        }
      ]
    },
    {
      "cell_type": "code",
      "execution_count": 3,
      "metadata": {
        "id": "v22ER4Pggkep"
      },
      "outputs": [],
      "source": [
        "from symbulate import *\n",
        "#'exec(%matplotlib inline)' \n",
        "import matplotlib\n",
        "\n",
        "import matplotlib.pyplot as plt"
      ]
    },
    {
      "cell_type": "code",
      "source": [
        "# clear the plot space:\n",
        "plt.clf()\n",
        "# Define the probability type of function as uniform (probability space)\n",
        "P = Uniform(0,40)\n",
        "# Define X as a random variable of the type P (uniform)\n",
        "X =RV(P)\n",
        "# Simulate the values of X and save the in the x array: \n",
        "x=X.sim(10000)\n",
        "x.plot()\n",
        "plt.show()"
      ],
      "metadata": {
        "colab": {
          "base_uri": "https://localhost:8080/",
          "height": 265
        },
        "id": "HOSy25VYhO8n",
        "outputId": "ba2bfbc2-0536-43ee-8647-a908dce11744"
      },
      "execution_count": 4,
      "outputs": [
        {
          "output_type": "display_data",
          "data": {
            "text/plain": [
              "<Figure size 432x288 with 1 Axes>"
            ],
            "image/png": "[encoded data removed]"
          },
          "metadata": {
            "needs_background": "light"
          }
        }
      ]
    },
    {
      "cell_type": "code",
      "source": [
        "print(x.mean())\n",
        "print(x.std())"
      ],
      "metadata": {
        "colab": {
          "base_uri": "https://localhost:8080/"
        },
        "id": "3ouY1NLBhWOL",
        "outputId": "9903436d-c554-487f-e452-45e2b49e23a9"
      },
      "execution_count": 5,
      "outputs": [
        {
          "output_type": "stream",
          "name": "stdout",
          "text": [
            "20.04291777865074\n",
            "11.490367984209799\n"
          ]
        }
      ]
    },
    {
      "cell_type": "markdown",
      "source": [
        "**INTERPET THE ABOVE HISTOGRAM. WHAT DO YOU SEE? EXPLAIN WITH YOUR WORDS.**\n",
        "\n",
        "ES INTERESANTE VER LA ALEATEORIDAD QUE SE OBTIENE A PARTIR DEL CALUCO DE LA DESVIACION, COMPARANDOLO CON NUESTROS COMPAÑEROS SI BIEN SE OBTUVO UNA RESPUESTA DENTRO DEL MISMO RANGO, LLEGABAN A HABER LIGERAS DIFERENCIAS ENTRE ESTOS"
      ],
      "metadata": {
        "id": "3REtcqaoiFMs"
      }
    },
    {
      "cell_type": "code",
      "source": [
        "# Define the probability space as a vector of 25 uniform random numbers:\n",
        "P = Uniform(0,40) ** 25\n",
        "# Define XVECTOR as a vector of random variables with 25 random values \n",
        "XVECTOR =RV(P)\n",
        "# Simulate 10,000 vectors to get a matrix  \n",
        "xmatrix=XVECTOR.sim(10000)"
      ],
      "metadata": {
        "id": "GVAUlDgNimqj"
      },
      "execution_count": 6,
      "outputs": []
    },
    {
      "cell_type": "code",
      "source": [
        "xmatrix"
      ],
      "metadata": {
        "colab": {
          "base_uri": "https://localhost:8080/",
          "height": 275
        },
        "id": "05CUU9g1jTjO",
        "outputId": "511f6d03-cbd3-489e-c469-80800448bd20"
      },
      "execution_count": 7,
      "outputs": [
        {
          "output_type": "execute_result",
          "data": {
            "text/plain": [
              "Index Result\n",
              "0     (20.00353833565386, 23.15601379951466, 3.60041164133301, 1.905716751311175, 30.08239450917778, ..., 28.055529842939254)\n",
              "1     (38.92110151165276, 5.641457426213279, 18.91753392845039, 5.309368099609317, 37.97174953699044, ..., 29.63080119062536)\n",
              "2     (20.937576212366956, 10.567517743881982, 7.995577077857807, 3.855999232924363, 6.937433623779019, ..., 39.68187197239236)\n",
              "3     (35.25537082731488, 0.06106699720395792, 23.19300628856262, 6.336530522660788, 34.96424361153347, ..., 14.325597047288525)\n",
              "4     (32.38270323407559, 3.1509313272167327, 13.939197645364288, 11.34384787947047, 17.00730871854939, ..., 35.621242654405506)\n",
              "5     (27.996169233087684, 2.5618654892791914, 23.02748039039258, 10.12433842822604, 11.196741709724169, ..., 19.317595311478186)\n",
              "6     (34.76165086736995, 28.073324631752335, 7.894891491044498, 37.597554031054685, 11.58572660959296, ..., 36.061641013243786)\n",
              "7     (8.638004418498362, 39.60639489879516, 13.670439899204524, 28.0119214403055, 16.03615895523241, ..., 1.3123857213383872)\n",
              "8     (13.148825480577262, 5.62725609288492, 31.463266028925958, 34.43667818462994, 21.914863615075596, ..., 2.4172392122830866)\n",
              "....  ............................................................................................................................\n",
              "9999  (28.521510600009368, 6.268270349274108, 1.4285263509448143, 29.433579151997343, 2.8924576970239313, ..., 35.374764220139234)"
            ],
            "text/html": [
              "\n",
              "    <table>\n",
              "      <thead>\n",
              "        <th width=\"10%\">Index</th>\n",
              "        <th width=\"90%\">Result</th>\n",
              "      </thead>\n",
              "      <tbody>\n",
              "        \n",
              "        <tr>\n",
              "          <td>0</td><td>(20.00353833565386, 23.15601379951466, 3.60041164133301, 1.905716751311175, 30.08239450917778, ..., ...</td>\n",
              "        </tr>\n",
              "        \n",
              "        <tr>\n",
              "          <td>1</td><td>(38.92110151165276, 5.641457426213279, 18.91753392845039, 5.309368099609317, 37.97174953699044, ...,...</td>\n",
              "        </tr>\n",
              "        \n",
              "        <tr>\n",
              "          <td>2</td><td>(20.937576212366956, 10.567517743881982, 7.995577077857807, 3.855999232924363, 6.937433623779019, .....</td>\n",
              "        </tr>\n",
              "        \n",
              "        <tr>\n",
              "          <td>3</td><td>(35.25537082731488, 0.06106699720395792, 23.19300628856262, 6.336530522660788, 34.96424361153347, .....</td>\n",
              "        </tr>\n",
              "        \n",
              "        <tr>\n",
              "          <td>4</td><td>(32.38270323407559, 3.1509313272167327, 13.939197645364288, 11.34384787947047, 17.00730871854939, .....</td>\n",
              "        </tr>\n",
              "        \n",
              "        <tr>\n",
              "          <td>5</td><td>(27.996169233087684, 2.5618654892791914, 23.02748039039258, 10.12433842822604, 11.196741709724169, ....</td>\n",
              "        </tr>\n",
              "        \n",
              "        <tr>\n",
              "          <td>6</td><td>(34.76165086736995, 28.073324631752335, 7.894891491044498, 37.597554031054685, 11.58572660959296, .....</td>\n",
              "        </tr>\n",
              "        \n",
              "        <tr>\n",
              "          <td>7</td><td>(8.638004418498362, 39.60639489879516, 13.670439899204524, 28.0119214403055, 16.03615895523241, ...,...</td>\n",
              "        </tr>\n",
              "        \n",
              "        <tr>\n",
              "          <td>8</td><td>(13.148825480577262, 5.62725609288492, 31.463266028925958, 34.43667818462994, 21.914863615075596, .....</td>\n",
              "        </tr>\n",
              "        <tr><td>...</td><td>...</td></tr>\n",
              "        <tr>\n",
              "          <td>9999</td><td>(28.521510600009368, 6.268270349274108, 1.4285263509448143, 29.433579151997343, 2.8924576970239313, ...</td>\n",
              "        </tr>\n",
              "        \n",
              "      </tbody>\n",
              "    </table>\n",
              "        "
            ]
          },
          "metadata": {},
          "execution_count": 7
        }
      ]
    },
    {
      "cell_type": "code",
      "source": [
        "# The 2nd parameter is the mathematical operation applied to each row of the random vector\n",
        "# Simulate 10,000 means of each random vector of 25 uniform distributed numbers: \n",
        "xmean = RV(P,mean).sim(10000)\n",
        "xmean"
      ],
      "metadata": {
        "colab": {
          "base_uri": "https://localhost:8080/",
          "height": 275
        },
        "id": "Y1rasPBBjVCQ",
        "outputId": "8a1b5d43-48c6-4aa6-aa5c-e1c55924485c"
      },
      "execution_count": 8,
      "outputs": [
        {
          "output_type": "execute_result",
          "data": {
            "text/plain": [
              "Index Result\n",
              "0     19.941394195227392\n",
              "1     21.809486352357343\n",
              "2     19.206694704505274\n",
              "3     16.095692576840392\n",
              "4     24.361298027395705\n",
              "5     17.86332061930213\n",
              "6     20.675033962023072\n",
              "7     17.24737437605165\n",
              "8     18.27848379747914\n",
              "....  ..................\n",
              "9999  20.835044340486277"
            ],
            "text/html": [
              "\n",
              "    <table>\n",
              "      <thead>\n",
              "        <th width=\"10%\">Index</th>\n",
              "        <th width=\"90%\">Result</th>\n",
              "      </thead>\n",
              "      <tbody>\n",
              "        \n",
              "        <tr>\n",
              "          <td>0</td><td>19.941394195227392</td>\n",
              "        </tr>\n",
              "        \n",
              "        <tr>\n",
              "          <td>1</td><td>21.809486352357343</td>\n",
              "        </tr>\n",
              "        \n",
              "        <tr>\n",
              "          <td>2</td><td>19.206694704505274</td>\n",
              "        </tr>\n",
              "        \n",
              "        <tr>\n",
              "          <td>3</td><td>16.095692576840392</td>\n",
              "        </tr>\n",
              "        \n",
              "        <tr>\n",
              "          <td>4</td><td>24.361298027395705</td>\n",
              "        </tr>\n",
              "        \n",
              "        <tr>\n",
              "          <td>5</td><td>17.86332061930213</td>\n",
              "        </tr>\n",
              "        \n",
              "        <tr>\n",
              "          <td>6</td><td>20.675033962023072</td>\n",
              "        </tr>\n",
              "        \n",
              "        <tr>\n",
              "          <td>7</td><td>17.24737437605165</td>\n",
              "        </tr>\n",
              "        \n",
              "        <tr>\n",
              "          <td>8</td><td>18.27848379747914</td>\n",
              "        </tr>\n",
              "        <tr><td>...</td><td>...</td></tr>\n",
              "        <tr>\n",
              "          <td>9999</td><td>20.835044340486277</td>\n",
              "        </tr>\n",
              "        \n",
              "      </tbody>\n",
              "    </table>\n",
              "        "
            ]
          },
          "metadata": {},
          "execution_count": 8
        }
      ]
    },
    {
      "cell_type": "code",
      "source": [
        "plt.clf()\n",
        "xmean.plot()\n",
        "plt.show()"
      ],
      "metadata": {
        "colab": {
          "base_uri": "https://localhost:8080/",
          "height": 265
        },
        "id": "S8-FgdfnjXvA",
        "outputId": "f117a726-076d-4ab8-f7b0-2164f686a43c"
      },
      "execution_count": 9,
      "outputs": [
        {
          "output_type": "display_data",
          "data": {
            "text/plain": [
              "<Figure size 432x288 with 1 Axes>"
            ],
            "image/png": "[encoded data removed]"
          },
          "metadata": {
            "needs_background": "light"
          }
        }
      ]
    },
    {
      "cell_type": "code",
      "source": [
        "print(xmean.mean())\n",
        "print(xmean.std())"
      ],
      "metadata": {
        "colab": {
          "base_uri": "https://localhost:8080/"
        },
        "id": "U3Xhi5pOj9tG",
        "outputId": "0c7e845b-b982-4128-85d1-24303186d18a"
      },
      "execution_count": 10,
      "outputs": [
        {
          "output_type": "stream",
          "name": "stdout",
          "text": [
            "19.981094753889266\n",
            "2.313019593473665\n"
          ]
        }
      ]
    },
    {
      "cell_type": "markdown",
      "source": [
        "**WHAT DO YOU SEE IN THE ABOVE HISTOGRAM? DOES THE HISTOGRAM OF SAMPLE MEANS OF UNIFORM RANDOM VARIABLE LOOK LIKE A UNIFORM DISTRIBUTED VARIABLE? DO YOU SEE A LOGIC? BRIEFLY EXPLAIN WHAT YOU THINK.**\n",
        "\n",
        "EL MEAN DEL XMEAN Y DE X SON BASTANTE PARECIDOS, CON UNA LIGERA DIFERENCIA QUE PROBABLEMENTE VIENE POR LA ALEATORIDAD DEL CALCULO POR MEDIO DE PYTHON, ES EN STD DONDE SE PUEDE NOTAR UN GRAN CAMBIO DENTRO DE LOS DATOS OBTENIDOS, ESTO POR EL CALCULO QUE SE REALIZA PARA OBTENER LOS DATOS"
      ],
      "metadata": {
        "id": "iXtx8T0ekFwN"
      }
    },
    {
      "cell_type": "code",
      "source": [
        "plt.clf()\n",
        "xmean.plot()\n",
        "x.plot()\n",
        "plt.show()"
      ],
      "metadata": {
        "colab": {
          "base_uri": "https://localhost:8080/",
          "height": 265
        },
        "id": "lShS3SU1odAk",
        "outputId": "626fc017-b8fc-409b-8d4f-69a3a9272dac"
      },
      "execution_count": 11,
      "outputs": [
        {
          "output_type": "display_data",
          "data": {
            "text/plain": [
              "<Figure size 432x288 with 1 Axes>"
            ],
            "image/png": "[encoded data removed]"
          },
          "metadata": {
            "needs_background": "light"
          }
        }
      ]
    },
    {
      "cell_type": "code",
      "source": [
        "# clear the plot space:\n",
        "plt.clf()\n",
        "# Define the probability type of function as uniform (probability space)\n",
        "P = Normal(mean=20, sd=10)\n",
        "# Define Y as a random variable of the type P (normal)\n",
        "Y =RV(P)\n",
        "# Simulate 10,000 values of Y and save the in the x array: \n",
        "y=Y.sim(10000)\n",
        "y.plot()\n",
        "plt.show()"
      ],
      "metadata": {
        "colab": {
          "base_uri": "https://localhost:8080/",
          "height": 265
        },
        "id": "ykA0tSMYomX5",
        "outputId": "4da5ad45-c578-46af-a851-bf73d745b1fb"
      },
      "execution_count": 12,
      "outputs": [
        {
          "output_type": "display_data",
          "data": {
            "text/plain": [
              "<Figure size 432x288 with 1 Axes>"
            ],
            "image/png": "[encoded data removed]"
          },
          "metadata": {
            "needs_background": "light"
          }
        }
      ]
    },
    {
      "cell_type": "code",
      "source": [
        "print(y.mean())\n",
        "print(y.std())"
      ],
      "metadata": {
        "colab": {
          "base_uri": "https://localhost:8080/"
        },
        "id": "BM5wEEB4oonw",
        "outputId": "7b0c3aae-17e3-476b-828e-da58ec5e9334"
      },
      "execution_count": 13,
      "outputs": [
        {
          "output_type": "stream",
          "name": "stdout",
          "text": [
            "19.891787946794654\n",
            "9.942843587463047\n"
          ]
        }
      ]
    },
    {
      "cell_type": "markdown",
      "source": [
        "**WHAT DO YOU SEE? INTERPRET THE HISTOGRAM WITH YOUR WORDS.**\n",
        "\n",
        "ES INTERESANTE VER QUE LOS RESULTADOS OBTENIDOS SON BASTANTE PARECIDOS A LOS DATOS OBTENIDOS DE XMEAN, EN LA DESVICION MEAN, MIENTRAS QUE VUELVE A VARIAR DE MANERA CONSIDERABLE EN LA DESVIACION ESTANDAR, DONDE COMO EN LOS ANTERIORES CASOS OBTENEMOS UN RESULTADO MENOR A LA OBTENIDA EN POR MEDIO DEL MEAN"
      ],
      "metadata": {
        "id": "yHRAfnOZo9-D"
      }
    },
    {
      "cell_type": "code",
      "source": [
        "# Define the probability space P as a vector of 25 normal random numbers:\n",
        "P = Normal(mean=20, sd=10) ** 25\n",
        "# Define RANDOMVECTOR as a vector of 25 random variables in the Probability space P \n",
        "RANDOMVECTOR = RV(P)\n",
        "# Simulate 10,000 random vectors with this distribution and save the in ymatrix: \n",
        "ymatrix=RANDOMVECTOR.sim(10000)"
      ],
      "metadata": {
        "id": "CjLfDxwrpeS1"
      },
      "execution_count": 14,
      "outputs": []
    },
    {
      "cell_type": "code",
      "source": [
        "ymatrix"
      ],
      "metadata": {
        "colab": {
          "base_uri": "https://localhost:8080/",
          "height": 275
        },
        "id": "PkmZ7mhKpgX4",
        "outputId": "324a2daa-0a02-49cf-94f5-b5f5aa00f160"
      },
      "execution_count": 15,
      "outputs": [
        {
          "output_type": "execute_result",
          "data": {
            "text/plain": [
              "Index Result\n",
              "0     (6.3137370093091825, 12.23678821727069, 21.2237230473031, 27.498347516686334, -1.8802804897093175, ..., 20.789757004738725)\n",
              "1     (11.043708856030896, 9.647683737449126, 29.429393165685273, 23.531004111917134, 19.317091849055373, ..., 15.287350988080076)\n",
              "2     (14.436536213617021, 17.365690370519406, 22.21507314825944, 29.445716870009406, 40.22271298962266, ..., 34.09236392240088)\n",
              "3     (17.15591774765823, 16.044888014666657, 16.332340384103674, 22.467104087043893, 29.162602802562997, ..., 32.38565901086908)\n",
              "4     (35.76938146470896, 26.82238515798483, 37.70060094954853, 11.943399847786036, 32.23153921830125, ..., 26.42681505408663)\n",
              "5     (26.837978288693705, 19.095587373592977, 12.33130538112949, 4.411083809511677, 33.755769234330444, ..., 27.58312943946678)\n",
              "6     (25.402588767590725, 33.85759894126732, 17.37757724999123, 20.99899461140674, 23.62786936377755, ..., 22.75051210273766)\n",
              "7     (23.605632862502137, 25.006768844087404, 10.104509631016871, 7.653583448765378, 29.203359889798712, ..., 19.251839639033737)\n",
              "8     (29.43280323666839, 16.175693560427998, 31.385834277926925, 17.661147844595778, 26.356924018755713, ..., 13.38375187818357)\n",
              "....  .........................................................................................................................\n",
              "9999  (12.64566595185179, 1.617626229342573, 9.709384917824135, -5.531767815713241, 23.67370257385783, ..., 22.573622363538128)"
            ],
            "text/html": [
              "\n",
              "    <table>\n",
              "      <thead>\n",
              "        <th width=\"10%\">Index</th>\n",
              "        <th width=\"90%\">Result</th>\n",
              "      </thead>\n",
              "      <tbody>\n",
              "        \n",
              "        <tr>\n",
              "          <td>0</td><td>(6.3137370093091825, 12.23678821727069, 21.2237230473031, 27.498347516686334, -1.8802804897093175, ....</td>\n",
              "        </tr>\n",
              "        \n",
              "        <tr>\n",
              "          <td>1</td><td>(11.043708856030896, 9.647683737449126, 29.429393165685273, 23.531004111917134, 19.317091849055373, ...</td>\n",
              "        </tr>\n",
              "        \n",
              "        <tr>\n",
              "          <td>2</td><td>(14.436536213617021, 17.365690370519406, 22.21507314825944, 29.445716870009406, 40.22271298962266, ....</td>\n",
              "        </tr>\n",
              "        \n",
              "        <tr>\n",
              "          <td>3</td><td>(17.15591774765823, 16.044888014666657, 16.332340384103674, 22.467104087043893, 29.162602802562997, ...</td>\n",
              "        </tr>\n",
              "        \n",
              "        <tr>\n",
              "          <td>4</td><td>(35.76938146470896, 26.82238515798483, 37.70060094954853, 11.943399847786036, 32.23153921830125, ......</td>\n",
              "        </tr>\n",
              "        \n",
              "        <tr>\n",
              "          <td>5</td><td>(26.837978288693705, 19.095587373592977, 12.33130538112949, 4.411083809511677, 33.755769234330444, ....</td>\n",
              "        </tr>\n",
              "        \n",
              "        <tr>\n",
              "          <td>6</td><td>(25.402588767590725, 33.85759894126732, 17.37757724999123, 20.99899461140674, 23.62786936377755, ......</td>\n",
              "        </tr>\n",
              "        \n",
              "        <tr>\n",
              "          <td>7</td><td>(23.605632862502137, 25.006768844087404, 10.104509631016871, 7.653583448765378, 29.203359889798712, ...</td>\n",
              "        </tr>\n",
              "        \n",
              "        <tr>\n",
              "          <td>8</td><td>(29.43280323666839, 16.175693560427998, 31.385834277926925, 17.661147844595778, 26.356924018755713, ...</td>\n",
              "        </tr>\n",
              "        <tr><td>...</td><td>...</td></tr>\n",
              "        <tr>\n",
              "          <td>9999</td><td>(12.64566595185179, 1.617626229342573, 9.709384917824135, -5.531767815713241, 23.67370257385783, ......</td>\n",
              "        </tr>\n",
              "        \n",
              "      </tbody>\n",
              "    </table>\n",
              "        "
            ]
          },
          "metadata": {},
          "execution_count": 15
        }
      ]
    },
    {
      "cell_type": "code",
      "source": [
        "# The 2nd parameter is the mathematical operation applied to each row of the random vector\n",
        "# Simulate 10,000 means of each random vector of 25 uniform distributed numbers: \n",
        "ymean = RV(P,mean).sim(10000)\n",
        "ymean"
      ],
      "metadata": {
        "colab": {
          "base_uri": "https://localhost:8080/",
          "height": 275
        },
        "id": "saI6gdo6piia",
        "outputId": "fb9e1fd3-1335-438f-a10e-077fe8feaed9"
      },
      "execution_count": 16,
      "outputs": [
        {
          "output_type": "execute_result",
          "data": {
            "text/plain": [
              "Index Result\n",
              "0     25.480498342471083\n",
              "1     20.89519485277575\n",
              "2     23.022580783915064\n",
              "3     20.656896129980115\n",
              "4     21.519991691018067\n",
              "5     19.408683706256028\n",
              "6     17.839271644336986\n",
              "7     19.972894435718494\n",
              "8     18.171589233155668\n",
              "....  .................\n",
              "9999  23.30216580560912"
            ],
            "text/html": [
              "\n",
              "    <table>\n",
              "      <thead>\n",
              "        <th width=\"10%\">Index</th>\n",
              "        <th width=\"90%\">Result</th>\n",
              "      </thead>\n",
              "      <tbody>\n",
              "        \n",
              "        <tr>\n",
              "          <td>0</td><td>25.480498342471083</td>\n",
              "        </tr>\n",
              "        \n",
              "        <tr>\n",
              "          <td>1</td><td>20.89519485277575</td>\n",
              "        </tr>\n",
              "        \n",
              "        <tr>\n",
              "          <td>2</td><td>23.022580783915064</td>\n",
              "        </tr>\n",
              "        \n",
              "        <tr>\n",
              "          <td>3</td><td>20.656896129980115</td>\n",
              "        </tr>\n",
              "        \n",
              "        <tr>\n",
              "          <td>4</td><td>21.519991691018067</td>\n",
              "        </tr>\n",
              "        \n",
              "        <tr>\n",
              "          <td>5</td><td>19.408683706256028</td>\n",
              "        </tr>\n",
              "        \n",
              "        <tr>\n",
              "          <td>6</td><td>17.839271644336986</td>\n",
              "        </tr>\n",
              "        \n",
              "        <tr>\n",
              "          <td>7</td><td>19.972894435718494</td>\n",
              "        </tr>\n",
              "        \n",
              "        <tr>\n",
              "          <td>8</td><td>18.171589233155668</td>\n",
              "        </tr>\n",
              "        <tr><td>...</td><td>...</td></tr>\n",
              "        <tr>\n",
              "          <td>9999</td><td>23.30216580560912</td>\n",
              "        </tr>\n",
              "        \n",
              "      </tbody>\n",
              "    </table>\n",
              "        "
            ]
          },
          "metadata": {},
          "execution_count": 16
        }
      ]
    },
    {
      "cell_type": "code",
      "source": [
        "plt.clf()\n",
        "ymean.plot()\n",
        "plt.show()"
      ],
      "metadata": {
        "colab": {
          "base_uri": "https://localhost:8080/",
          "height": 265
        },
        "id": "9_CpndKmpkZd",
        "outputId": "9b132243-8226-4fe0-e9a1-b380ec042061"
      },
      "execution_count": 17,
      "outputs": [
        {
          "output_type": "display_data",
          "data": {
            "text/plain": [
              "<Figure size 432x288 with 1 Axes>"
            ],
            "image/png": "[encoded data removed]"
          },
          "metadata": {
            "needs_background": "light"
          }
        }
      ]
    },
    {
      "cell_type": "code",
      "source": [
        "print(ymean.mean())\n",
        "print(ymean.std())"
      ],
      "metadata": {
        "colab": {
          "base_uri": "https://localhost:8080/"
        },
        "id": "dn67qhVqrCYQ",
        "outputId": "75e56a51-d5fd-4b28-ce8b-89c6f540458a"
      },
      "execution_count": 18,
      "outputs": [
        {
          "output_type": "stream",
          "name": "stdout",
          "text": [
            "19.954635689977838\n",
            "1.9975300055684788\n"
          ]
        }
      ]
    },
    {
      "cell_type": "markdown",
      "source": [
        "**INTERPRET THE ABOVE HISTOGRAM OF THE SAMPLES OF y.**\n",
        "\n",
        "ES INTERSANTE VER LA DIERENCIA DEL NIVEL DE COMPRESION QUE HAY EN REELACION A Y, DONDE PODEMOS SEGUIR VIENDO QUE MEAN SE MANTIENE DENTRO DE UN RANGO PARECIDO, MIENTRAS QUE LA ESTANDAR DEVIATION ES QUE LA QUE VUELVE A VARIAR EN ESTE CASO SIENDO MENOR"
      ],
      "metadata": {
        "id": "OQiWelJjrKlB"
      }
    },
    {
      "cell_type": "code",
      "source": [
        "plt.clf()\n",
        "ymean.plot()\n",
        "y.plot()\n",
        "plt.show()"
      ],
      "metadata": {
        "colab": {
          "base_uri": "https://localhost:8080/",
          "height": 265
        },
        "id": "dNPw6q7SrISo",
        "outputId": "32bf0ae1-f7f9-4ad1-b917-e7e00ef8cfce"
      },
      "execution_count": 19,
      "outputs": [
        {
          "output_type": "display_data",
          "data": {
            "text/plain": [
              "<Figure size 432x288 with 1 Axes>"
            ],
            "image/png": "[encoded data removed]"
          },
          "metadata": {
            "needs_background": "light"
          }
        }
      ]
    },
    {
      "cell_type": "markdown",
      "source": [
        "**4.1 CHALLENGE**\n",
        "\n",
        "https://rpubs.com/cdorante/tc3006c_w2"
      ],
      "metadata": {
        "id": "ZZDq1SGnDWue"
      }
    },
    {
      "cell_type": "code",
      "source": [
        "!pip install --upgrade pandas\n",
        "!pip install --upgrade pandas-datareader"
      ],
      "metadata": {
        "colab": {
          "base_uri": "https://localhost:8080/"
        },
        "id": "OqBG0no63pKl",
        "outputId": "a5c25ffd-0f0e-4ef7-ab93-c30d033a7b85"
      },
      "execution_count": 1,
      "outputs": [
        {
          "output_type": "stream",
          "name": "stdout",
          "text": [
            "Looking in indexes: https://pypi.org/simple, https://us-python.pkg.dev/colab-wheels/public/simple/\n",
            "Requirement already satisfied: pandas in /usr/local/lib/python3.7/dist-packages (1.3.5)\n",
            "Requirement already satisfied: numpy>=1.17.3 in /usr/local/lib/python3.7/dist-packages (from pandas) (1.21.6)\n",
            "Requirement already satisfied: pytz>=2017.3 in /usr/local/lib/python3.7/dist-packages (from pandas) (2022.1)\n",
            "Requirement already satisfied: python-dateutil>=2.7.3 in /usr/local/lib/python3.7/dist-packages (from pandas) (2.8.2)\n",
            "Requirement already satisfied: six>=1.5 in /usr/local/lib/python3.7/dist-packages (from python-dateutil>=2.7.3->pandas) (1.15.0)\n",
            "Looking in indexes: https://pypi.org/simple, https://us-python.pkg.dev/colab-wheels/public/simple/\n",
            "Requirement already satisfied: pandas-datareader in /usr/local/lib/python3.7/dist-packages (0.9.0)\n",
            "Collecting pandas-datareader\n",
            "  Downloading pandas_datareader-0.10.0-py3-none-any.whl (109 kB)\n",
            "\u001b[K     |████████████████████████████████| 109 kB 5.2 MB/s \n",
            "\u001b[?25hRequirement already satisfied: pandas>=0.23 in /usr/local/lib/python3.7/dist-packages (from pandas-datareader) (1.3.5)\n",
            "Requirement already satisfied: requests>=2.19.0 in /usr/local/lib/python3.7/dist-packages (from pandas-datareader) (2.23.0)\n",
            "Requirement already satisfied: lxml in /usr/local/lib/python3.7/dist-packages (from pandas-datareader) (4.9.1)\n",
            "Requirement already satisfied: numpy>=1.17.3 in /usr/local/lib/python3.7/dist-packages (from pandas>=0.23->pandas-datareader) (1.21.6)\n",
            "Requirement already satisfied: python-dateutil>=2.7.3 in /usr/local/lib/python3.7/dist-packages (from pandas>=0.23->pandas-datareader) (2.8.2)\n",
            "Requirement already satisfied: pytz>=2017.3 in /usr/local/lib/python3.7/dist-packages (from pandas>=0.23->pandas-datareader) (2022.1)\n",
            "Requirement already satisfied: six>=1.5 in /usr/local/lib/python3.7/dist-packages (from python-dateutil>=2.7.3->pandas>=0.23->pandas-datareader) (1.15.0)\n",
            "Requirement already satisfied: chardet<4,>=3.0.2 in /usr/local/lib/python3.7/dist-packages (from requests>=2.19.0->pandas-datareader) (3.0.4)\n",
            "Requirement already satisfied: urllib3!=1.25.0,!=1.25.1,<1.26,>=1.21.1 in /usr/local/lib/python3.7/dist-packages (from requests>=2.19.0->pandas-datareader) (1.24.3)\n",
            "Requirement already satisfied: certifi>=2017.4.17 in /usr/local/lib/python3.7/dist-packages (from requests>=2.19.0->pandas-datareader) (2022.6.15)\n",
            "Requirement already satisfied: idna<3,>=2.5 in /usr/local/lib/python3.7/dist-packages (from requests>=2.19.0->pandas-datareader) (2.10)\n",
            "Installing collected packages: pandas-datareader\n",
            "  Attempting uninstall: pandas-datareader\n",
            "    Found existing installation: pandas-datareader 0.9.0\n",
            "    Uninstalling pandas-datareader-0.9.0:\n",
            "      Successfully uninstalled pandas-datareader-0.9.0\n",
            "Successfully installed pandas-datareader-0.10.0\n"
          ]
        }
      ]
    },
    {
      "cell_type": "code",
      "source": [
        "import pandas_datareader as pdr\n",
        "from matplotlib import pyplot\n",
        "import pandas as pd\n",
        "import math"
      ],
      "metadata": {
        "id": "ugj7m9t24KNz"
      },
      "execution_count": 20,
      "outputs": []
    },
    {
      "cell_type": "code",
      "source": [
        "data = pdr.get_data_yahoo('MSFT', interval=\"m\")\n",
        "data.info()"
      ],
      "metadata": {
        "colab": {
          "base_uri": "https://localhost:8080/"
        },
        "id": "H3k_TnGK4Zs9",
        "outputId": "c7544e04-f310-4ee1-e3d7-01a65ae270e1"
      },
      "execution_count": 21,
      "outputs": [
        {
          "output_type": "stream",
          "name": "stdout",
          "text": [
            "<class 'pandas.core.frame.DataFrame'>\n",
            "DatetimeIndex: 61 entries, 2017-09-01 to 2022-08-12\n",
            "Data columns (total 6 columns):\n",
            " #   Column     Non-Null Count  Dtype  \n",
            "---  ------     --------------  -----  \n",
            " 0   High       61 non-null     float64\n",
            " 1   Low        61 non-null     float64\n",
            " 2   Open       61 non-null     float64\n",
            " 3   Close      61 non-null     float64\n",
            " 4   Volume     61 non-null     float64\n",
            " 5   Adj Close  61 non-null     float64\n",
            "dtypes: float64(6)\n",
            "memory usage: 3.3 KB\n"
          ]
        }
      ]
    },
    {
      "cell_type": "code",
      "source": [
        "data[\"R\"] = (data[\"Close\"] / data[\"Close\"].shift(1)) - 1\n",
        "print(data[\"R\"])"
      ],
      "metadata": {
        "colab": {
          "base_uri": "https://localhost:8080/"
        },
        "id": "W6M93ZhX4xY7",
        "outputId": "6fd6f529-1fde-43fb-da06-0db249f44768"
      },
      "execution_count": 22,
      "outputs": [
        {
          "output_type": "stream",
          "name": "stdout",
          "text": [
            "Date\n",
            "2017-09-01         NaN\n",
            "2017-10-01    0.116660\n",
            "2017-11-01    0.011902\n",
            "2017-12-01    0.016277\n",
            "2018-01-01    0.110708\n",
            "                ...   \n",
            "2022-05-01   -0.020359\n",
            "2022-06-01   -0.055321\n",
            "2022-07-01    0.093097\n",
            "2022-08-01    0.039788\n",
            "2022-08-12    0.000000\n",
            "Name: R, Length: 61, dtype: float64\n"
          ]
        }
      ]
    },
    {
      "cell_type": "code",
      "source": [
        "print(\"The monthly average return of Bitcoin is \", data[\"R\"].mean())"
      ],
      "metadata": {
        "colab": {
          "base_uri": "https://localhost:8080/"
        },
        "id": "QpP-j7s_6Lj2",
        "outputId": "db0a1bab-2599-4c45-f4e2-75b21c30f636"
      },
      "execution_count": 23,
      "outputs": [
        {
          "output_type": "stream",
          "name": "stdout",
          "text": [
            "The monthly average return of Bitcoin is  0.024677910159991698\n"
          ]
        }
      ]
    },
    {
      "cell_type": "code",
      "source": [
        "dummy = data['R'][1:]\n",
        "sample = dummy[0:30]\n",
        "sampleMean = sample.mean()\n",
        "sampleStd = sample. std()\n",
        "\n",
        "meanMSFT = dummy.mean()\n",
        "stdMSFT = dummy. std()\n",
        "\n",
        "variable_study = meanMSFT\n",
        "#print(variable_study)\n",
        "\n",
        "standard_error = stdMSFT\n",
        "#print(standard_error)\n",
        "\n",
        "ha = 0.0\n",
        "size = sqrt(len(dummy))\n",
        "for item in dummy:\n",
        "  itr = (item/size)\n",
        "  ha = ha + itr\n",
        "\n",
        "H0 = stdMSFT\n",
        "print(\" \")\n",
        "print(\"standard deviation: \", H0)\n",
        "print(\"standard deviation of individuals of the sample\", ha)"
      ],
      "metadata": {
        "colab": {
          "base_uri": "https://localhost:8080/"
        },
        "id": "9fuV9tRH6Xel",
        "outputId": "73f014d7-a583-473b-f638-8f3b84e4d591"
      },
      "execution_count": 24,
      "outputs": [
        {
          "output_type": "stream",
          "name": "stdout",
          "text": [
            " \n",
            "standard deviation:  0.058651853968880716\n",
            "standard deviation of individuals of the sample 0.19115427013770123\n"
          ]
        }
      ]
    },
    {
      "cell_type": "code",
      "source": [
        "tsatistic = (meanMSFT - sampleMean) / (sampleStd / sqrt(len(sample)))\n",
        "print(tsatistic)\n",
        "\n",
        "ttest=(ha - H0) / standard_error\n",
        "print(ttest)"
      ],
      "metadata": {
        "colab": {
          "base_uri": "https://localhost:8080/"
        },
        "id": "zBjfCQ8u7UgO",
        "outputId": "5c6ffa11-08f9-472a-f08a-4011840a0ab1"
      },
      "execution_count": 25,
      "outputs": [
        {
          "output_type": "stream",
          "name": "stdout",
          "text": [
            "-0.20279594885282237\n",
            "2.2591343189104163\n"
          ]
        }
      ]
    }
  ]
}